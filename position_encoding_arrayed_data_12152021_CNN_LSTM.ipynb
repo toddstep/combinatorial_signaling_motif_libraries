{
 "cells": [
  {
   "cell_type": "markdown",
   "metadata": {},
   "source": [
    "# Data Analysis-- Supervised Learning\n",
    "* Created on Mon Sep. 29 2021 by Shangying Wang\n",
    "* Last Modified: April 6, 2023\n",
    "* this code is used for prediction of the phenotypes from the combinatory motifs\n",
    "* This code uses the convolutional neural network and LSTM."
   ]
  },
  {
   "cell_type": "code",
   "execution_count": null,
   "metadata": {},
   "outputs": [],
   "source": [
    "import tensorflow as tf\n",
    "import numpy as np\n",
    "import pandas as pd\n",
    "from tensorflow import keras\n",
    "from sklearn.model_selection import train_test_split\n",
    "from keras.utils.np_utils import to_categorical\n",
    "import csv\n",
    "import os\n",
    "import matplotlib.pyplot as plt\n",
    "%matplotlib inline\n",
    "import seaborn as sns\n",
    "sns.set(style=\"ticks\", color_codes=True)\n",
    "#import pdb\n",
    "from platform import python_version\n",
    "print(python_version())"
   ]
  },
  {
   "cell_type": "code",
   "execution_count": null,
   "metadata": {},
   "outputs": [],
   "source": [
    "from tensorflow.keras.optimizers import SGD, Adam\n",
    "from keras import layers,Sequential\n",
    "from keras.layers import Input, Dense, Dropout, Flatten, Average, BatchNormalization, LSTM, TimeDistributed\n",
    "from tensorflow.keras.layers import Conv1D,MaxPool1D, concatenate\n",
    "from keras.layers.convolutional import Convolution1D, MaxPooling1D\n",
    "from keras.initializers import RandomNormal,HeNormal,GlorotNormal,HeUniform,LecunNormal,LecunUniform,Orthogonal\n",
    "from sklearn.preprocessing import MinMaxScaler,StandardScaler,RobustScaler\n",
    "from itertools import product\n",
    "from sklearn import metrics\n",
    "from sklearn.preprocessing import scale\n",
    "from sklearn.cluster import KMeans\n",
    "from sklearn.datasets import make_blobs\n",
    "from sklearn.utils import shuffle\n",
    "from sklearn.model_selection import GridSearchCV\n",
    "print(tf.__version__)"
   ]
  },
  {
   "cell_type": "markdown",
   "metadata": {},
   "source": [
    "# For arrayed data analysis"
   ]
  },
  {
   "cell_type": "markdown",
   "metadata": {
    "tags": []
   },
   "source": [
    "## Load data from csv file\n",
    "- CSV files available at https://www.science.org/doi/suppl/10.1126/science.abq0225/suppl_file/science.abq0225_data_s1_to_s3.zip\n",
    "- Change schema to match version used in original commits\n",
    "- Change motif values to match those used in original commits (i.e., change 17 to 14)"
   ]
  },
  {
   "cell_type": "code",
   "execution_count": null,
   "metadata": {},
   "outputs": [],
   "source": [
    "tf.keras.utils.set_random_seed(1)\n",
    "train_data=pd.read_csv('science.abq0225_data_s2.csv',encoding= 'unicode_escape',sep=',')\n",
    "test_data=pd.read_csv('science.abq0225_data_s3.csv',encoding= 'unicode_escape',sep=',')\n",
    "train_data = train_data.sample(frac=1).reset_index(drop=True)\n",
    "test_data = test_data.sample(frac=1).reset_index(drop=True)\n",
    "rename_dict = {'Initial CAR T Cell Number': 'Cell Number',\n",
    "               'motif i': 'motif',\n",
    "               'motif j': 'motif.1',\n",
    "               'motif k': 'motif.2',\n",
    "               'motif l': 'motif.3',\n",
    "               'motif m': 'motif.4',\n",
    "               'Cytotoxicity (Nalm 6 Survival)': 'Nalm 6 Cytotoxicity',\n",
    "               'Stemness (% IL7Ra+ KLRG1-)': 'IL7RaKLRG1 stemness'}\n",
    "train_data.rename(columns=rename_dict, inplace=True)\n",
    "test_data.rename(columns=rename_dict, inplace=True)\n",
    "train_data.drop([train_data.columns[7]], axis=1, inplace=True)\n",
    "test_data.drop([test_data.columns[7]], axis=1, inplace=True)\n",
    "train_data.replace(17, 14, inplace=True)\n",
    "test_data.replace(17, 14, inplace=True)\n",
    "test_data"
   ]
  },
  {
   "cell_type": "code",
   "execution_count": null,
   "metadata": {},
   "outputs": [],
   "source": [
    "#data statistics\n",
    "all_data = pd.concat([test_data, train_data])\n",
    "max_cell=max(all_data['Cell Number'])\n",
    "all_data['Cell Number']=all_data['Cell Number']/max_cell\n",
    "train_data['Cell Number']=train_data['Cell Number']/max_cell\n",
    "test_data['Cell Number']=test_data['Cell Number']/max_cell\n",
    "stats_df = all_data.describe()\n",
    "stats_df"
   ]
  },
  {
   "cell_type": "code",
   "execution_count": null,
   "metadata": {},
   "outputs": [],
   "source": [
    "skew_vals1=all_data['Nalm 6 Cytotoxicity'].skew()\n",
    "skew_vals1"
   ]
  },
  {
   "cell_type": "code",
   "execution_count": null,
   "metadata": {},
   "outputs": [],
   "source": [
    "skew_vals2=all_data['IL7RaKLRG1 stemness'].skew()\n",
    "skew_vals2"
   ]
  },
  {
   "cell_type": "code",
   "execution_count": null,
   "metadata": {},
   "outputs": [],
   "source": [
    "plt.figure(figsize=[10,20])\n",
    "pheno=['IL7RaKLRG1 stemness']\n",
    "new_data = all_data.copy()\n",
    "pp=0\n",
    "plt.subplot(3,2,1)\n",
    "new_data[pheno[pp]].hist(bins=10)\n",
    "plt.xlabel('value', fontsize=20)\n",
    "plt.ylabel('frequency', fontsize=20)\n",
    "plt.title('before np.log1p', fontsize=20)\n",
    "\n",
    "plt.subplot(3,2,2)\n",
    "new_data[pheno[pp]]=new_data[pheno[pp]].apply(np.log1p)\n",
    "new_data[pheno[pp]].hist(bins=10)\n",
    "plt.xlabel('value', fontsize=20)\n",
    "#plt.ylabel('frequency', fontsize=20)\n",
    "plt.title('after np.log1p', fontsize=20)"
   ]
  },
  {
   "cell_type": "code",
   "execution_count": null,
   "metadata": {},
   "outputs": [],
   "source": [
    "skew_vals2=new_data['IL7RaKLRG1 stemness'].skew()\n",
    "skew_vals2"
   ]
  },
  {
   "cell_type": "code",
   "execution_count": null,
   "metadata": {},
   "outputs": [],
   "source": [
    "train_data['IL7RaKLRG1 stemness'] = train_data['IL7RaKLRG1 stemness'].apply(np.log1p)\n",
    "test_data['IL7RaKLRG1 stemness'] = test_data['IL7RaKLRG1 stemness'].apply(np.log1p)"
   ]
  },
  {
   "cell_type": "code",
   "execution_count": null,
   "metadata": {},
   "outputs": [],
   "source": [
    "stats_df = train_data.describe()\n",
    "stats_df"
   ]
  },
  {
   "cell_type": "markdown",
   "metadata": {},
   "source": [
    "## Deep Neural Network for Nalm 6 Cytotoxicity"
   ]
  },
  {
   "cell_type": "code",
   "execution_count": null,
   "metadata": {},
   "outputs": [],
   "source": [
    "num_motifs=5\n",
    "num_class=num_class=len(np.unique(new_data.iloc[:,1:(num_motifs+1)]))\n",
    "np.unique(new_data.iloc[:,1:(num_motifs+1)])"
   ]
  },
  {
   "cell_type": "code",
   "execution_count": null,
   "metadata": {},
   "outputs": [],
   "source": [
    "max_y=np.max(new_data['Nalm 6 Cytotoxicity'])\n",
    "max_y"
   ]
  },
  {
   "cell_type": "code",
   "execution_count": null,
   "metadata": {},
   "outputs": [],
   "source": [
    "ICN_train, X_train, Y_train = train_data.iloc[:, :1], train_data.iloc[:,1:(num_motifs+1)], train_data['Nalm 6 Cytotoxicity']/max_y\n",
    "ICN_test, X_test, Y_test = test_data.iloc[:, :1], test_data.iloc[:,1:(num_motifs+1)], test_data['Nalm 6 Cytotoxicity']/max_y"
   ]
  },
  {
   "cell_type": "markdown",
   "metadata": {},
   "source": [
    "### One-hot encoding for 14 linear motifs: "
   ]
  },
  {
   "cell_type": "code",
   "execution_count": null,
   "metadata": {
    "tags": []
   },
   "outputs": [],
   "source": [
    "X_train_channel=to_categorical(X_train, num_classes=num_class)\n",
    "X_test_channel=to_categorical(X_test, num_classes=num_class)\n",
    "print(np.shape(X_test_channel)) #3D tensor with shape (batch_size, steps, features/channels)"
   ]
  },
  {
   "cell_type": "code",
   "execution_count": null,
   "metadata": {},
   "outputs": [],
   "source": [
    "output_dim = 1\n",
    "batch_size = 10"
   ]
  },
  {
   "cell_type": "code",
   "execution_count": null,
   "metadata": {},
   "outputs": [],
   "source": [
    "stats_df = Y_train.describe()\n",
    "stats_df"
   ]
  },
  {
   "cell_type": "markdown",
   "metadata": {},
   "source": [
    "### CNN+LSTM "
   ]
  },
  {
   "cell_type": "code",
   "execution_count": null,
   "metadata": {},
   "outputs": [],
   "source": [
    "#define two sets of inputs\n",
    "#64, 4, 0.1, 64,0.5,4\n",
    "input_position=Input(shape=(num_motifs, num_class), name='input_position')\n",
    "input_ICN=Input(shape=(1), name='input_ICN')\n",
    "#initializer = RandomNormal(mean=0.0, stddev=0.05, seed=None)#kernel_initializer=initializer, \n",
    "x=Conv1D(filters=32, kernel_size=3, padding='same', activation='relu', input_shape=(num_motifs, num_class))(1.0*input_position)\n",
    "#x=Conv1D(filters=16, kernel_size=3, padding='same', activation='relu')(x)\n",
    "x=LSTM(4,return_sequences=True, dropout=0.3)(x)#return_sequences=True,\n",
    "x = Flatten()(x)\n",
    "#x = Dropout(0.5)(x)\n",
    "#x = Dense(8*output_dim,activation='relu')(x)\n",
    "model1 = keras.Model(inputs=input_position, outputs=x)\n",
    "\n",
    "\n",
    "# combine the output of the two branches\n",
    "combined = concatenate([model1.output, input_ICN])\n",
    "# apply a FC layer and then a regression prediction on the\n",
    "# combined outputs\n",
    "\n",
    "z = Dense(50*output_dim, activation='relu')(combined)\n",
    "#z = Dense(16*output_dim, activation='relu')(z)\n",
    "z = Dropout(0.5)(z)\n",
    "#z = Dense(4*output_dim, activation='relu')(z)\n",
    "z = Dense(output_dim, activation='relu')(z)\n",
    "\n",
    "# our model will accept the inputs of the two branches and\n",
    "# then output a single value\n",
    "model = keras.Model(inputs=[input_position, input_ICN], outputs=z)\n",
    "model.summary()"
   ]
  },
  {
   "cell_type": "code",
   "execution_count": null,
   "metadata": {
    "scrolled": true
   },
   "outputs": [],
   "source": [
    "# Compile the model\n",
    "model.compile(\n",
    "    #loss=keras.losses.MeanSquaredLogarithmicError(),\n",
    "    loss=keras.losses.MeanAbsoluteError(),\n",
    "    optimizer=keras.optimizers.RMSprop(learning_rate=1e-4),\n",
    "    #optimizer=tfa.optimizers.RectifiedAdam(lr=1e-3),\n",
    "    #optimizer=Adam(lr=0.0001), #Adam optimizer\n",
    "    #optimizer=SGD(lr=0.001, momentum=0.99),\n",
    "    metrics=[tf.keras.metrics.MeanSquaredError()])\n",
    "\n",
    "history = model.fit([X_train_channel, ICN_train], Y_train,  batch_size=batch_size, epochs=1200, verbose=1)\n",
    "#validation_data=([X_test_channel, ICN_test], Y_test), "
   ]
  },
  {
   "cell_type": "code",
   "execution_count": null,
   "metadata": {},
   "outputs": [],
   "source": [
    "train_scores = model.evaluate([X_train_channel,ICN_train], Y_train, verbose=0)\n",
    "test_scores = model.evaluate([X_test_channel,ICN_test], Y_test, verbose=0)\n",
    "print(\"MSE:\", train_scores[1])\n",
    "print(\"MSE:\", test_scores[1])"
   ]
  },
  {
   "cell_type": "code",
   "execution_count": null,
   "metadata": {},
   "outputs": [],
   "source": [
    "p1=plt.plot(history.history['mean_squared_error'])\n",
    "#p2=plt.plot(history.history['val_mean_squared_error'])\n",
    "plt.title('mean_squared_error')\n",
    "plt.ylabel('MSE')\n",
    "plt.xlabel('No. epoch')\n",
    "plt.yscale('log')\n",
    "#plt.legend([p1,p2], ['training','validation'])\n",
    "plt.show()"
   ]
  },
  {
   "cell_type": "code",
   "execution_count": null,
   "metadata": {},
   "outputs": [],
   "source": [
    "pred_train=model.predict([X_train_channel,ICN_train])*max_y\n",
    "pred_test=model.predict([X_test_channel,ICN_test])*max_y\n",
    "# pred_train=np.dot(pred_train_sc, np.diag(max_y))\n",
    "# pred_test=np.dot(pred_test_sc,np.diag(max_y))"
   ]
  },
  {
   "cell_type": "code",
   "execution_count": null,
   "metadata": {},
   "outputs": [],
   "source": [
    "from sklearn.metrics import r2_score\n",
    "title_list=['Nalm 6 Cytotoxicity','IL7RaKLRG1 stemness']\n",
    "plt.figure(figsize=[15,70])\n",
    "i=0\n",
    "gt=Y_train*max_y\n",
    "plt.subplot(1,2,1)\n",
    "plt.scatter(gt,pred_train)\n",
    "xmin=min(min(gt),min(pred_train))\n",
    "xmax=max(max(gt),max(pred_train))\n",
    "xline=np.linspace(xmin,xmax,10)\n",
    "plt.plot(xline,xline,color='red')\n",
    "plt.xlabel('Ground Truth (Training)', fontsize=20)\n",
    "plt.ylabel('Predictions (Training)', fontsize=20)\n",
    "correlation_matrix = np.corrcoef(gt, pred_train[:,0])\n",
    "corr = correlation_matrix[0,1]\n",
    "r_squared = corr**2\n",
    "plt.title(title_list[i]+'\\n'+'R^2='+str(r_squared)[:5], fontsize=20)\n",
    "plt.axis('square')\n",
    "\n",
    "plt.subplot(1,2,2)\n",
    "gt=Y_test*max_y\n",
    "plt.scatter(gt,pred_test[:,i])\n",
    "xmin=min(min(gt),min(pred_test))\n",
    "xmax=max(max(gt),max(pred_test[:,i]))\n",
    "xline=np.linspace(xmin,xmax,10)\n",
    "plt.plot(xline,xline,color='red')\n",
    "plt.xlabel('Ground Truth (Test)', fontsize=20)\n",
    "plt.ylabel('Predictions (Test)', fontsize=20)\n",
    "correlation_matrix = np.corrcoef(gt, pred_test[:,0])\n",
    "corr = correlation_matrix[0,1]\n",
    "r_squared = corr**2\n",
    "plt.title(title_list[i]+'\\n'+'R^2='+str(r_squared)[:5], fontsize=20)\n",
    "plt.axis('square')"
   ]
  },
  {
   "cell_type": "markdown",
   "metadata": {},
   "source": [
    "## Ensemble Predistions "
   ]
  },
  {
   "cell_type": "code",
   "execution_count": null,
   "metadata": {
    "tags": []
   },
   "outputs": [],
   "source": [
    "## merge inputs\n",
    "combine_input_train = np.concatenate([np.reshape(X_train_channel, [np.shape(X_train_channel)[0], -1]), ICN_train], axis=1)\n",
    "combine_input_test = np.concatenate([np.reshape(X_test_channel, [np.shape(X_test_channel)[0], -1]), ICN_test], axis=1)"
   ]
  },
  {
   "cell_type": "code",
   "execution_count": null,
   "metadata": {
    "tags": []
   },
   "outputs": [],
   "source": [
    "model = keras.models.load_model('saved_model/position_encoding_arrayed_data_04062023_CNN_LSTM_Cytotoxicity_1.h5')\n",
    "pred_test1=model.predict(combine_input_test)\n",
    "pred_train1=model.predict(combine_input_train)\n",
    "model = keras.models.load_model('saved_model/position_encoding_arrayed_data_04062023_CNN_LSTM_Cytotoxicity_2.h5')\n",
    "pred_test2=model.predict(combine_input_test)\n",
    "pred_train2=model.predict(combine_input_train)\n",
    "model = keras.models.load_model('saved_model/position_encoding_arrayed_data_04062023_CNN_LSTM_Cytotoxicity_3.h5')\n",
    "pred_test3=model.predict(combine_input_test)\n",
    "pred_train3=model.predict(combine_input_train)\n",
    "model = keras.models.load_model('saved_model/position_encoding_arrayed_data_04062023_CNN_LSTM_Cytotoxicity_4.h5')\n",
    "pred_test4=model.predict(combine_input_test)\n",
    "pred_train4=model.predict(combine_input_train)\n",
    "model = keras.models.load_model('saved_model/position_encoding_arrayed_data_04062023_CNN_LSTM_Cytotoxicity_5.h5')\n",
    "pred_test5=model.predict(combine_input_test)\n",
    "pred_train5=model.predict(combine_input_train)\n",
    "model = keras.models.load_model('saved_model/position_encoding_arrayed_data_04062023_CNN_LSTM_Cytotoxicity_6.h5')\n",
    "pred_test6=model.predict(combine_input_test)\n",
    "pred_train6=model.predict(combine_input_train)\n",
    "model = keras.models.load_model('saved_model/position_encoding_arrayed_data_04062023_CNN_LSTM_Cytotoxicity_7.h5')\n",
    "pred_test7=model.predict(combine_input_test)\n",
    "pred_train7=model.predict(combine_input_train)\n",
    "model = keras.models.load_model('saved_model/position_encoding_arrayed_data_04062023_CNN_LSTM_Cytotoxicity_8.h5')\n",
    "pred_test8=model.predict(combine_input_test)\n",
    "pred_train8=model.predict(combine_input_train)\n",
    "model = keras.models.load_model('saved_model/position_encoding_arrayed_data_04062023_CNN_LSTM_Cytotoxicity_9.h5')\n",
    "pred_test9=model.predict(combine_input_test)\n",
    "pred_train9=model.predict(combine_input_train)\n",
    "model = keras.models.load_model('saved_model/position_encoding_arrayed_data_04062023_CNN_LSTM_Cytotoxicity_10.h5')\n",
    "pred_test10=model.predict(combine_input_test)\n",
    "pred_train10=model.predict(combine_input_train)\n",
    "pred_test=(pred_test1+pred_test2+pred_test3+pred_test4+pred_test5+pred_test6+pred_test7+pred_test8+pred_test9+pred_test10)/10*max_y\n",
    "pred_train=(pred_train1+pred_train2+pred_train3+pred_train4+pred_train5+pred_train6+pred_train7+pred_train8+pred_train9+pred_train10)/10*max_y\n",
    "df = pd.DataFrame(np.around(pred_test,3), columns = ['Column_1'])\n",
    "df.T"
   ]
  },
  {
   "cell_type": "code",
   "execution_count": null,
   "metadata": {},
   "outputs": [],
   "source": [
    "from sklearn.metrics import r2_score\n",
    "title_list=['Nalm 6 Cytotoxicity','IL7RaKLRG1 stemness']\n",
    "plt.figure(figsize=[15,70])\n",
    "i=0\n",
    "gt=Y_train*max_y\n",
    "plt.subplot(1,2,1)\n",
    "plt.scatter(gt,pred_train)\n",
    "xmin=min(min(gt),min(pred_train))\n",
    "xmax=max(max(gt),max(pred_train))\n",
    "xline=np.linspace(xmin,xmax,10)\n",
    "plt.plot(xline,xline,color='red')\n",
    "plt.xlabel('Ground Truth (Training)', fontsize=20)\n",
    "plt.ylabel('Predictions (Training)', fontsize=20)\n",
    "correlation_matrix = np.corrcoef(gt, pred_train[:,0])\n",
    "corr = correlation_matrix[0,1]\n",
    "r_squared = corr**2\n",
    "plt.title(title_list[i]+'\\n'+'R^2='+str(r_squared)[:5], fontsize=20)\n",
    "plt.axis('square')\n",
    "\n",
    "plt.subplot(1,2,2)\n",
    "gt=Y_test*max_y\n",
    "plt.scatter(gt,pred_test[:,i])\n",
    "xmin=min(min(gt),min(pred_test))\n",
    "xmax=max(max(gt),max(pred_test[:,i]))\n",
    "xline=np.linspace(xmin,xmax,10)\n",
    "plt.plot(xline,xline,color='red')\n",
    "plt.xlabel('Ground Truth (Test)', fontsize=20)\n",
    "plt.ylabel('Predictions (Test)', fontsize=20)\n",
    "correlation_matrix = np.corrcoef(gt, pred_test[:,0])\n",
    "corr = correlation_matrix[0,1]\n",
    "r_squared = corr**2\n",
    "plt.title(title_list[i]+'\\n'+'R^2='+str(r_squared)[:5], fontsize=20)\n",
    "plt.axis('square')"
   ]
  },
  {
   "cell_type": "markdown",
   "metadata": {},
   "source": [
    "## Deep Neural Network for IL7RaKLRG1 stemness"
   ]
  },
  {
   "cell_type": "code",
   "execution_count": null,
   "metadata": {},
   "outputs": [],
   "source": [
    "max_y=np.max(new_data['IL7RaKLRG1 stemness'])\n",
    "max_y"
   ]
  },
  {
   "cell_type": "code",
   "execution_count": null,
   "metadata": {},
   "outputs": [],
   "source": [
    "Y_train = train_data['IL7RaKLRG1 stemness']/max_y\n",
    "Y_test = test_data['IL7RaKLRG1 stemness']/max_y"
   ]
  },
  {
   "cell_type": "code",
   "execution_count": null,
   "metadata": {},
   "outputs": [],
   "source": [
    "#define two sets of inputs\n",
    "#64, 4, 0.1, 64,0.5,4\n",
    "input_position=Input(shape=(num_motifs, num_class), name='input_position')\n",
    "input_ICN=Input(shape=(1), name='input_ICN')\n",
    "#initializer = RandomNormal(mean=0.0, stddev=0.05, seed=None)#kernel_initializer=initializer, \n",
    "x=Conv1D(filters=32, kernel_size=3, padding='same', activation='relu', input_shape=(num_motifs, num_class))(1.0*input_position)\n",
    "#x=Conv1D(filters=16, kernel_size=3, padding='same', activation='relu')(x)\n",
    "x=LSTM(4,return_sequences=True, dropout=0.3)(x)#return_sequences=True,\n",
    "x = Flatten()(x)\n",
    "#x = Dropout(0.5)(x)\n",
    "#x = Dense(8*output_dim,activation='relu')(x)\n",
    "model1 = keras.Model(inputs=input_position, outputs=x)\n",
    "\n",
    "\n",
    "# combine the output of the two branches\n",
    "combined = concatenate([model1.output, input_ICN])\n",
    "# apply a FC layer and then a regression prediction on the\n",
    "# combined outputs\n",
    "\n",
    "z = Dense(50*output_dim, activation='relu')(combined)\n",
    "#z = Dense(16*output_dim, activation='relu')(z)\n",
    "z = Dropout(0.5)(z)\n",
    "#z = Dense(4*output_dim, activation='relu')(z)\n",
    "z = Dense(output_dim, activation='relu')(z)\n",
    "\n",
    "# our model will accept the inputs of the two branches and\n",
    "# then output a single value\n",
    "model = keras.Model(inputs=[input_position, input_ICN], outputs=z)\n",
    "model.summary()"
   ]
  },
  {
   "cell_type": "code",
   "execution_count": null,
   "metadata": {
    "scrolled": true
   },
   "outputs": [],
   "source": [
    "# Compile the model\n",
    "model.compile(\n",
    "    #loss=keras.losses.MeanSquaredLogarithmicError(),\n",
    "    loss=keras.losses.MeanSquaredError(),\n",
    "    optimizer=keras.optimizers.RMSprop(learning_rate=1e-4),\n",
    "    #optimizer=tfa.optimizers.RectifiedAdam(lr=1e-3),\n",
    "    #optimizer=Adam(lr=0.0001), #Adam optimizer\n",
    "    #optimizer=SGD(lr=0.001, momentum=0.99),\n",
    "    metrics=[tf.keras.metrics.MeanSquaredError()])\n",
    "\n",
    "history = model.fit([X_train_channel, ICN_train], Y_train, batch_size=batch_size, epochs=1200, verbose=1)\n",
    "#validation_data=([X_test_channel, ICN_test], Y_test), "
   ]
  },
  {
   "cell_type": "code",
   "execution_count": null,
   "metadata": {},
   "outputs": [],
   "source": [
    "train_scores = model.evaluate([X_train_channel,ICN_train], Y_train, verbose=0)\n",
    "test_scores = model.evaluate([X_test_channel,ICN_test], Y_test, verbose=0)\n",
    "print(\"MSE:\", train_scores[1])\n",
    "print(\"MSE:\", test_scores[1])"
   ]
  },
  {
   "cell_type": "code",
   "execution_count": null,
   "metadata": {},
   "outputs": [],
   "source": [
    "p1=plt.plot(history.history['mean_squared_error'])\n",
    "#p2=plt.plot(history.history['val_mean_squared_error'])\n",
    "plt.title('mean_squared_error')\n",
    "plt.ylabel('MSE')\n",
    "plt.xlabel('No. epoch')\n",
    "plt.yscale('log')\n",
    "#plt.legend([p1,p2], ['training','validation'])\n",
    "plt.show()"
   ]
  },
  {
   "cell_type": "code",
   "execution_count": null,
   "metadata": {},
   "outputs": [],
   "source": [
    "# pred_train=model.predict([X_train_channel,ICN_train])\n",
    "# pred_test=model.predict([X_test_channel,ICN_test])\n",
    "pred_train=np.exp(model.predict([X_train_channel,ICN_train])*max_y)-1\n",
    "pred_test=np.exp(model.predict([X_test_channel,ICN_test])*max_y)-1"
   ]
  },
  {
   "cell_type": "code",
   "execution_count": null,
   "metadata": {},
   "outputs": [],
   "source": [
    "np.shape(pred_test)"
   ]
  },
  {
   "cell_type": "code",
   "execution_count": null,
   "metadata": {},
   "outputs": [],
   "source": [
    "from sklearn.metrics import r2_score\n",
    "title_list=['Nalm 6 Cytotoxicity','IL7RaKLRG1 stemness']\n",
    "plt.figure(figsize=[15,70])\n",
    "i=1\n",
    "gt=np.exp(Y_train*max_y)-1\n",
    "plt.subplot(1,2,1)\n",
    "plt.scatter(gt,pred_train)\n",
    "xmin=min(min(gt),min(pred_train))\n",
    "xmax=max(max(gt),max(pred_train))\n",
    "xline=np.linspace(xmin,xmax,10)\n",
    "plt.plot(xline,xline,color='red')\n",
    "plt.xlabel('Ground Truth (Training)', fontsize=20)\n",
    "plt.ylabel('Predictions (Training)', fontsize=20)\n",
    "correlation_matrix = np.corrcoef(gt, pred_train[:,0])\n",
    "corr = correlation_matrix[0,1]\n",
    "r_squared = corr**2\n",
    "plt.title(title_list[i]+'\\n'+'R^2='+str(r_squared)[:5], fontsize=20)\n",
    "plt.axis('square')\n",
    "\n",
    "plt.subplot(1,2,2)\n",
    "gt=np.exp(Y_test*max_y)-1\n",
    "plt.scatter(gt,pred_test)\n",
    "xmin=min(min(gt),min(pred_test))\n",
    "xmax=max(max(gt),max(pred_test))\n",
    "xline=np.linspace(xmin,xmax,10)\n",
    "plt.plot(xline,xline,color='red')\n",
    "plt.xlabel('Ground Truth (Test)', fontsize=20)\n",
    "plt.ylabel('Predictions (Test)', fontsize=20)\n",
    "correlation_matrix = np.corrcoef(gt, pred_test[:,0])\n",
    "corr = correlation_matrix[0,1]\n",
    "r_squared = corr**2\n",
    "plt.title(title_list[i]+'\\n'+'R^2='+str(r_squared)[:5], fontsize=20)\n",
    "plt.axis('square')"
   ]
  },
  {
   "cell_type": "markdown",
   "metadata": {},
   "source": [
    "## Ensemble Predistions "
   ]
  },
  {
   "cell_type": "code",
   "execution_count": null,
   "metadata": {},
   "outputs": [],
   "source": [
    "model = keras.models.load_model('saved_model/position_encoding_arrayed_data_04062023_CNN_LSTM_stemness_1.h5')\n",
    "pred_test1=model.predict(combine_input_test)\n",
    "pred_train1=model.predict(combine_input_train)\n",
    "model = keras.models.load_model('saved_model/position_encoding_arrayed_data_04062023_CNN_LSTM_stemness_2.h5')\n",
    "pred_test2=model.predict(combine_input_test)\n",
    "pred_train2=model.predict(combine_input_train)\n",
    "model = keras.models.load_model('saved_model/position_encoding_arrayed_data_04062023_CNN_LSTM_stemness_3.h5')\n",
    "pred_test3=model.predict(combine_input_test)\n",
    "pred_train3=model.predict(combine_input_train)\n",
    "model = keras.models.load_model('saved_model/position_encoding_arrayed_data_04062023_CNN_LSTM_stemness_4.h5')\n",
    "pred_test4=model.predict(combine_input_test)\n",
    "pred_train4=model.predict(combine_input_train)\n",
    "model = keras.models.load_model('saved_model/position_encoding_arrayed_data_04062023_CNN_LSTM_stemness_5.h5')\n",
    "pred_test5=model.predict(combine_input_test)\n",
    "pred_train5=model.predict(combine_input_train)\n",
    "model = keras.models.load_model('saved_model/position_encoding_arrayed_data_04062023_CNN_LSTM_stemness_6.h5')\n",
    "pred_test6=model.predict(combine_input_test)\n",
    "pred_train6=model.predict(combine_input_train)\n",
    "model = keras.models.load_model('saved_model/position_encoding_arrayed_data_04062023_CNN_LSTM_stemness_7.h5')\n",
    "pred_test7=model.predict(combine_input_test)\n",
    "pred_train7=model.predict(combine_input_train)\n",
    "model = keras.models.load_model('saved_model/position_encoding_arrayed_data_04062023_CNN_LSTM_stemness_8.h5')\n",
    "pred_test8=model.predict(combine_input_test)\n",
    "pred_train8=model.predict(combine_input_train)\n",
    "model = keras.models.load_model('saved_model/position_encoding_arrayed_data_04062023_CNN_LSTM_stemness_9.h5')\n",
    "pred_test9=model.predict(combine_input_test)\n",
    "pred_train9=model.predict(combine_input_train)\n",
    "model = keras.models.load_model('saved_model/position_encoding_arrayed_data_04062023_CNN_LSTM_stemness_10.h5')\n",
    "pred_test10=model.predict(combine_input_test)\n",
    "pred_train10=model.predict(combine_input_train)\n",
    "pred_test=(pred_test1+pred_test2+pred_test3+pred_test4+pred_test5+pred_test6+pred_test7+pred_test8+pred_test9+pred_test10)/10*max_y\n",
    "pred_train=(pred_train1+pred_train2+pred_train3+pred_train4+pred_train5+pred_train6+pred_train7+pred_train8+pred_train9+pred_train10)/10*max_y\n",
    "df = pd.DataFrame(np.around(pred_test,3), columns = ['Column_1'])\n",
    "df.T"
   ]
  },
  {
   "cell_type": "code",
   "execution_count": null,
   "metadata": {},
   "outputs": [],
   "source": [
    "from sklearn.metrics import r2_score\n",
    "title_list=['Nalm 6 Cytotoxicity','IL7RaKLRG1 stemness']\n",
    "plt.figure(figsize=[15,70])\n",
    "i=1\n",
    "gt=np.exp(Y_train*max_y)-1\n",
    "pred_train=np.exp(pred_train)-1\n",
    "plt.subplot(1,2,1)\n",
    "plt.scatter(gt,pred_train)\n",
    "xmin=min(min(gt),min(pred_train))\n",
    "xmax=max(max(gt),max(pred_train))\n",
    "xline=np.linspace(xmin,xmax,10)\n",
    "plt.plot(xline,xline,color='red')\n",
    "plt.xlabel('Ground Truth (Training)', fontsize=20)\n",
    "plt.ylabel('Predictions (Training)', fontsize=20)\n",
    "correlation_matrix = np.corrcoef(gt, pred_train[:,0])\n",
    "corr = correlation_matrix[0,1]\n",
    "r_squared = corr**2\n",
    "plt.title(title_list[i]+'\\n'+'R^2='+str(r_squared)[:5], fontsize=20)\n",
    "plt.axis('square')\n",
    "\n",
    "plt.subplot(1,2,2)\n",
    "gt=np.exp(Y_test*max_y)-1\n",
    "pred_test=np.exp(pred_test)-1\n",
    "plt.scatter(gt,pred_test)\n",
    "xmin=min(min(gt),min(pred_test))\n",
    "xmax=max(max(gt),max(pred_test))\n",
    "xline=np.linspace(xmin,xmax,10)\n",
    "plt.plot(xline,xline,color='red')\n",
    "plt.xlabel('Ground Truth (Test)', fontsize=20)\n",
    "plt.ylabel('Predictions (Test)', fontsize=20)\n",
    "correlation_matrix = np.corrcoef(gt, pred_test[:,0])\n",
    "corr = correlation_matrix[0,1]\n",
    "r_squared = corr**2\n",
    "plt.title(title_list[i]+'\\n'+'R^2='+str(r_squared)[:5], fontsize=20)\n",
    "plt.axis('square')"
   ]
  }
 ],
 "metadata": {
  "kernelspec": {
   "display_name": "Python 3 (ipykernel)",
   "language": "python",
   "name": "python3"
  },
  "language_info": {
   "codemirror_mode": {
    "name": "ipython",
    "version": 3
   },
   "file_extension": ".py",
   "mimetype": "text/x-python",
   "name": "python",
   "nbconvert_exporter": "python",
   "pygments_lexer": "ipython3",
   "version": "3.10.10"
  }
 },
 "nbformat": 4,
 "nbformat_minor": 4
}
